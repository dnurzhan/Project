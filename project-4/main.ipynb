{
 "cells": [
  {
   "cell_type": "markdown",
   "metadata": {},
   "source": [
    "### Проект 4 [Стоимость мобильного телефона]"
   ]
  },
  {
   "cell_type": "markdown",
   "metadata": {},
   "source": [
    "Вам предоставляется набор данных. Набор данных уже разделен на ```train_data.csv``` и ```test_data.csv```.\n",
    "\n",
    "**Цель:** построить модели для прогнозирования **диапазона цен** на мобильные телефоны. (```\"price_range\"```).\n",
    "\n",
    "    > 0 (низкая цена)\n",
    "    > 1 (средняя цена)\n",
    "    > 2 (высокая цена)\n",
    "    > 3 (очень высокая цена)\n",
    "\n",
    "Пожалуйста, включите подробные объяснения следующих шагов:\n",
    "\n",
    "1. Очистка, предварительная обработка данных, и Exploratory Data Analysis\n",
    "\n",
    "2. Обучение и проверка моделей.\n",
    "\n",
    "3. Сравнение моделей на основе метрик классификации: ```F-score```, ```Precision```, ```Recall```.\n",
    "\n",
    "**Примечание:** вам **рекомендуется** искать так же другие алгоритмы машинного обучения в Интернете (не ограничиваясь материалом курса), но вы должны изучить и понять эти алгоритмы. Вы не можете удалить ни одну строку в файле ```test_data.csv```."
   ]
  },
  {
   "cell_type": "code",
   "execution_count": 1,
   "metadata": {},
   "outputs": [],
   "source": [
    "import pandas as pd\n",
    "import numpy as np\n",
    "import matplotlib.pyplot as plt\n",
    "import seaborn as sns\n",
    "from sklearn.model_selection import train_test_split\n",
    "from sklearn.preprocessing import StandardScaler\n",
    "from sklearn.metrics import f1_score, precision_score, recall_score\n",
    "from sklearn.linear_model import LogisticRegression\n",
    "from sklearn.tree import DecisionTreeClassifier\n",
    "from sklearn.ensemble import RandomForestClassifier\n",
    "from sklearn.svm import SVC"
   ]
  },
  {
   "cell_type": "code",
   "execution_count": 2,
   "metadata": {},
   "outputs": [],
   "source": [
    "# Загрузка данных\n",
    "train_data = pd.read_csv('train_data.csv')\n",
    "test_data = pd.read_csv('test_data.csv')"
   ]
  },
  {
   "cell_type": "code",
   "execution_count": 3,
   "metadata": {},
   "outputs": [
    {
     "name": "stdout",
     "output_type": "stream",
     "text": [
      "Размерность обучающего набора данных: (1800, 21)\n",
      "Размерность тестового набора данных: (200, 21)\n"
     ]
    }
   ],
   "source": [
    "# Просмотр размерности данных\n",
    "print(f\"Размерность обучающего набора данных: {train_data.shape}\")\n",
    "print(f\"Размерность тестового набора данных: {test_data.shape}\")"
   ]
  },
  {
   "cell_type": "code",
   "execution_count": 4,
   "metadata": {},
   "outputs": [
    {
     "name": "stdout",
     "output_type": "stream",
     "text": [
      "<class 'pandas.core.frame.DataFrame'>\n",
      "RangeIndex: 1800 entries, 0 to 1799\n",
      "Data columns (total 21 columns):\n",
      " #   Column         Non-Null Count  Dtype  \n",
      "---  ------         --------------  -----  \n",
      " 0   battery_power  1800 non-null   int64  \n",
      " 1   blue           1800 non-null   int64  \n",
      " 2   clock_speed    1800 non-null   float64\n",
      " 3   dual_sim       1800 non-null   int64  \n",
      " 4   fc             1800 non-null   int64  \n",
      " 5   four_g         1800 non-null   int64  \n",
      " 6   int_memory     1800 non-null   int64  \n",
      " 7   m_dep          1800 non-null   float64\n",
      " 8   mobile_wt      1800 non-null   int64  \n",
      " 9   n_cores        1800 non-null   int64  \n",
      " 10  pc             1800 non-null   int64  \n",
      " 11  px_height      1800 non-null   int64  \n",
      " 12  px_width       1800 non-null   int64  \n",
      " 13  ram            1800 non-null   int64  \n",
      " 14  sc_h           1800 non-null   int64  \n",
      " 15  sc_w           1800 non-null   int64  \n",
      " 16  talk_time      1800 non-null   int64  \n",
      " 17  three_g        1800 non-null   int64  \n",
      " 18  touch_screen   1800 non-null   int64  \n",
      " 19  wifi           1800 non-null   int64  \n",
      " 20  price_range    1800 non-null   int64  \n",
      "dtypes: float64(2), int64(19)\n",
      "memory usage: 295.4 KB\n",
      "None\n"
     ]
    }
   ],
   "source": [
    "# Просмотр признаков (столбцов) и типов данных\n",
    "print(train_data.info())"
   ]
  },
  {
   "cell_type": "code",
   "execution_count": 5,
   "metadata": {},
   "outputs": [
    {
     "name": "stdout",
     "output_type": "stream",
     "text": [
      "battery_power    0\n",
      "blue             0\n",
      "clock_speed      0\n",
      "dual_sim         0\n",
      "fc               0\n",
      "four_g           0\n",
      "int_memory       0\n",
      "m_dep            0\n",
      "mobile_wt        0\n",
      "n_cores          0\n",
      "pc               0\n",
      "px_height        0\n",
      "px_width         0\n",
      "ram              0\n",
      "sc_h             0\n",
      "sc_w             0\n",
      "talk_time        0\n",
      "three_g          0\n",
      "touch_screen     0\n",
      "wifi             0\n",
      "price_range      0\n",
      "dtype: int64\n"
     ]
    }
   ],
   "source": [
    "# Проверка наличия пропущенных значений\n",
    "print(train_data.isnull().sum())"
   ]
  },
  {
   "cell_type": "code",
   "execution_count": 6,
   "metadata": {},
   "outputs": [
    {
     "data": {
      "image/png": "[encoded data removed]",
      "text/plain": [
       "<Figure size 640x480 with 1 Axes>"
      ]
     },
     "metadata": {},
     "output_type": "display_data"
    }
   ],
   "source": [
    "# Анализ распределения целевой переменной\n",
    "sns.countplot(x='price_range', data=train_data)\n",
    "plt.show()"
   ]
  },
  {
   "cell_type": "code",
   "execution_count": 7,
   "metadata": {},
   "outputs": [],
   "source": [
    "# Разделение данных на признаки (X) и целевую переменную (y)\n",
    "X = train_data.drop('price_range', axis=1)\n",
    "y = train_data['price_range']"
   ]
  },
  {
   "cell_type": "code",
   "execution_count": 8,
   "metadata": {},
   "outputs": [],
   "source": [
    "# Разделение данных на обучающий и тестовый наборы\n",
    "X_train, X_test, y_train, y_test = train_test_split(X, y, test_size=0.2, random_state=42)"
   ]
  },
  {
   "cell_type": "code",
   "execution_count": 9,
   "metadata": {},
   "outputs": [],
   "source": [
    "# Масштабирование признаков\n",
    "scaler = StandardScaler()\n",
    "X_train_scaled = scaler.fit_transform(X_train)\n",
    "X_test_scaled = scaler.transform(X_test)"
   ]
  },
  {
   "cell_type": "code",
   "execution_count": 10,
   "metadata": {},
   "outputs": [
    {
     "name": "stdout",
     "output_type": "stream",
     "text": [
      "Модель: Logistic Regression\n",
      "F-score: 0.9696\n",
      "Precision: 0.9700\n",
      "Recall: 0.9694\n",
      "\n",
      "Модель: Decision Tree\n",
      "F-score: 0.8183\n",
      "Precision: 0.8219\n",
      "Recall: 0.8167\n",
      "\n",
      "Модель: Random Forest\n",
      "F-score: 0.8745\n",
      "Precision: 0.8749\n",
      "Recall: 0.8750\n",
      "\n",
      "Модель: SVM\n",
      "F-score: 0.8897\n",
      "Precision: 0.8913\n",
      "Recall: 0.8889\n",
      "\n"
     ]
    }
   ],
   "source": [
    "# Обучение и проверка моделей\n",
    "models = {'Logistic Regression': LogisticRegression(),\n",
    "          'Decision Tree': DecisionTreeClassifier(),\n",
    "          'Random Forest': RandomForestClassifier(),\n",
    "          'SVM': SVC()}\n",
    "\n",
    "for model_name, model in models.items():\n",
    "    model.fit(X_train_scaled, y_train)\n",
    "    y_pred = model.predict(X_test_scaled)\n",
    "    \n",
    "    f_score = f1_score(y_test, y_pred, average='weighted')\n",
    "    precision = precision_score(y_test, y_pred, average='weighted')\n",
    "    recall = recall_score(y_test, y_pred, average='weighted')\n",
    "    \n",
    "    print(f\"Модель: {model_name}\")\n",
    "    print(f\"F-score: {f_score:.4f}\")\n",
    "    print(f\"Precision: {precision:.4f}\")\n",
    "    print(f\"Recall: {recall:.4f}\")\n",
    "    print(\"\")"
   ]
  },
  {
   "cell_type": "code",
   "execution_count": 11,
   "metadata": {},
   "outputs": [
    {
     "name": "stdout",
     "output_type": "stream",
     "text": [
      "                 Model   F-score  Precision    Recall\n",
      "0  Logistic Regression  0.969562   0.970022  0.969444\n",
      "1        Decision Tree  0.842742   0.846200  0.841667\n",
      "2        Random Forest  0.877909   0.878196  0.877778\n",
      "3                  SVM  0.889679   0.891270  0.888889\n"
     ]
    }
   ],
   "source": [
    "# Сравнение моделей на основе метрик классификации\n",
    "metrics = []\n",
    "for model_name, model in models.items():\n",
    "    model.fit(X_train_scaled, y_train)\n",
    "    y_pred = model.predict(X_test_scaled)\n",
    "    \n",
    "    f_score = f1_score(y_test, y_pred, average='weighted')\n",
    "    precision = precision_score(y_test, y_pred, average='weighted')\n",
    "    recall = recall_score(y_test, y_pred, average='weighted')\n",
    "    \n",
    "    metrics.append({'Model': model_name, 'F-score': f_score, 'Precision': precision, 'Recall': recall})\n",
    "\n",
    "metrics_df = pd.DataFrame(metrics)\n",
    "print(metrics_df)"
   ]
  }
 ],
 "metadata": {
  "kernelspec": {
   "display_name": "Python 3 (ipykernel)",
   "language": "python",
   "name": "python3"
  },
  "language_info": {
   "codemirror_mode": {
    "name": "ipython",
    "version": 3
   },
   "file_extension": ".py",
   "mimetype": "text/x-python",
   "name": "python",
   "nbconvert_exporter": "python",
   "pygments_lexer": "ipython3",
   "version": "3.10.9"
  }
 },
 "nbformat": 4,
 "nbformat_minor": 2
}
